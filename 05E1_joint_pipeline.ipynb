{
 "cells": [
  {
   "cell_type": "code",
   "execution_count": null,
   "metadata": {},
   "outputs": [],
   "source": [
    "%run -i src/notebook_base_light.py"
   ]
  },
  {
   "cell_type": "code",
   "execution_count": null,
   "metadata": {},
   "outputs": [],
   "source": [
    "from src.datasets.dataset import DatasetImageDir\n",
    "dset = DatasetImageDir(dir_root='data/joint_pipeline_example')\n",
    "dset.discover()"
   ]
  },
  {
   "cell_type": "code",
   "execution_count": null,
   "metadata": {},
   "outputs": [],
   "source": []
  },
  {
   "cell_type": "code",
   "execution_count": null,
   "metadata": {},
   "outputs": [],
   "source": [
    "from src.a05_differences.E1_article_evaluation import DiscrepancyJointPipeline\n",
    "joint_pipeline = DiscrepancyJointPipeline()\n",
    "joint_pipeline.init_semseg()\n",
    "joint_pipeline.init_gan()\n",
    "joint_pipeline.init_discrepancy()"
   ]
  },
  {
   "cell_type": "code",
   "execution_count": null,
   "metadata": {},
   "outputs": [],
   "source": [
    "joint_pipeline.run_on_dset(dset, b_show=True)"
   ]
  },
  {
   "cell_type": "code",
   "execution_count": null,
   "metadata": {},
   "outputs": [],
   "source": []
  },
  {
   "cell_type": "code",
   "execution_count": null,
   "metadata": {},
   "outputs": [],
   "source": [
    "from src.a05_differences.E1_article_evaluation import DiscrepancyJointPipeline_LabelsOnly\n",
    "joint_pipeline_lab = DiscrepancyJointPipeline_LabelsOnly()\n",
    "joint_pipeline_lab.init_semseg()\n",
    "joint_pipeline_lab.init_discrepancy()"
   ]
  },
  {
   "cell_type": "code",
   "execution_count": null,
   "metadata": {},
   "outputs": [],
   "source": [
    "from src.datasets.road_anomaly import DatasetRoadAnomaly\n",
    "dset_road_anomaly = DatasetRoadAnomaly()\n",
    "dset_road_anomaly.discover()\n",
    "joint_pipeline_lab.run_on_dset(dset_road_anomaly, b_show=True)"
   ]
  }
 ],
 "metadata": {
  "kernelspec": {
   "display_name": "Python 3",
   "language": "python",
   "name": "python3"
  },
  "language_info": {
   "codemirror_mode": {
    "name": "ipython",
    "version": 3
   },
   "file_extension": ".py",
   "mimetype": "text/x-python",
   "name": "python",
   "nbconvert_exporter": "python",
   "pygments_lexer": "ipython3",
   "version": "3.7.2"
  }
 },
 "nbformat": 4,
 "nbformat_minor": 4
}
